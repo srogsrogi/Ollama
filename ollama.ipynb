{
 "cells": [
  {
   "metadata": {
    "ExecuteTime": {
     "end_time": "2025-05-12T05:27:38.307740Z",
     "start_time": "2025-05-12T05:27:37.422740Z"
    }
   },
   "cell_type": "code",
   "source": "!where python",
   "id": "7db46c387ce8ce8a",
   "outputs": [
    {
     "name": "stdout",
     "output_type": "stream",
     "text": [
      "C:\\Users\\hg\\miniconda3\\envs\\ollama\\python.exe\n",
      "C:\\Users\\hg\\miniconda3\\python.exe\n",
      "C:\\Users\\hg\\AppData\\Local\\Microsoft\\WindowsApps\\python.exe\n"
     ]
    }
   ],
   "execution_count": 3
  },
  {
   "metadata": {
    "ExecuteTime": {
     "end_time": "2025-05-12T05:27:31.987739Z",
     "start_time": "2025-05-12T05:27:31.966741Z"
    }
   },
   "cell_type": "code",
   "source": [
    "import sys\n",
    "print(sys.executable)"
   ],
   "id": "1a791dcbc8687176",
   "outputs": [
    {
     "name": "stdout",
     "output_type": "stream",
     "text": [
      "C:\\Users\\hg\\miniconda3\\envs\\ollama\\python.exe\n"
     ]
    }
   ],
   "execution_count": 2
  },
  {
   "metadata": {
    "collapsed": true,
    "ExecuteTime": {
     "end_time": "2025-05-12T05:44:43.512444Z",
     "start_time": "2025-05-12T05:44:42.580328Z"
    }
   },
   "cell_type": "code",
   "source": "from langchain_community.llms import Ollama",
   "id": "8368d0e42e80106",
   "outputs": [],
   "execution_count": 1
  },
  {
   "metadata": {
    "ExecuteTime": {
     "end_time": "2025-05-12T05:45:14.962971Z",
     "start_time": "2025-05-12T05:44:45.184984Z"
    }
   },
   "cell_type": "code",
   "source": [
    "import requests\n",
    "\n",
    "# 프롬프트 설정\n",
    "prompt = \"서울의 인구는 얼마나 되나요? 한국어로 대답해.\"\n",
    "\n",
    "# Ollama 서버에 요청\n",
    "response = requests.post(\n",
    "    \"http://localhost:11434/api/generate\",\n",
    "    json={\n",
    "        \"model\": \"llama3\",     # 실행 중인 모델 이름\n",
    "        \"prompt\": prompt,\n",
    "        \"stream\": False         # 전체 응답을 한 번에 받을지 여부\n",
    "    }\n",
    ")\n",
    "\n",
    "# 결과 출력\n",
    "print(\"🧠 LLaMA 3 응답:\")\n",
    "print(response.json()[\"response\"])\n"
   ],
   "id": "c43214cb7ff1edc7",
   "outputs": [
    {
     "name": "stdout",
     "output_type": "stream",
     "text": [
      "🧠 LLaMA 3 응답:\n",
      "📊️ Seoul Metropolitan City의 인구는 2021년 기준으로 약 9,781,000명입니다. (한국 통계청, 2021.12.31 기준) 🏙️\n"
     ]
    }
   ],
   "execution_count": 2
  },
  {
   "metadata": {},
   "cell_type": "code",
   "outputs": [],
   "execution_count": null,
   "source": "",
   "id": "8521398dc1b0b240"
  }
 ],
 "metadata": {
  "kernelspec": {
   "display_name": "Python 3",
   "language": "python",
   "name": "python3"
  },
  "language_info": {
   "codemirror_mode": {
    "name": "ipython",
    "version": 2
   },
   "file_extension": ".py",
   "mimetype": "text/x-python",
   "name": "python",
   "nbconvert_exporter": "python",
   "pygments_lexer": "ipython2",
   "version": "2.7.6"
  }
 },
 "nbformat": 4,
 "nbformat_minor": 5
}
